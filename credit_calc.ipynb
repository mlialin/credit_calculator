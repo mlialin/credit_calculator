{
 "cells": [
  {
   "cell_type": "markdown",
   "metadata": {},
   "source": [
    "### DEBT tools"
   ]
  },
  {
   "cell_type": "code",
   "execution_count": 4,
   "metadata": {},
   "outputs": [],
   "source": [
    "def calc_payment(loan, percent, term):\n",
    "    \"\"\"\n",
    "    Calcs monthly loan payment \n",
    "    \n",
    "    `loan`    - initial debt\n",
    "    `percent` - annual percent, e.g. 10%\n",
    "    `term`    - term in years\n",
    "    \"\"\"\n",
    "    months = int(term * 12)\n",
    "    ppm    = percent / 100 / 12\n",
    "\n",
    "    loan_coef = (1 + ppm)**months\n",
    "    pay_coef  = 0\n",
    "    \n",
    "    for month in range(months):\n",
    "        pay_coef  += (1 + ppm)**month\n",
    "        \n",
    "    return loan * loan_coef / pay_coef"
   ]
  },
  {
   "cell_type": "code",
   "execution_count": 5,
   "metadata": {},
   "outputs": [],
   "source": [
    "def calc_overpay(loan, percent, term):\n",
    "    \"\"\"\n",
    "    Calcs loan overpay \n",
    "    \n",
    "    `loan`    - initial debt\n",
    "    `percent` - annual percent, e.g. 10%\n",
    "    `term`    - term in years\n",
    "    \"\"\"\n",
    "    months = int(term * 12)\n",
    "        \n",
    "    payment = calc_payment(loan, percent, term)\n",
    "    summ = 0\n",
    "    \n",
    "    for month in range(months):\n",
    "        summ  += payment\n",
    "       \n",
    "    return summ - loan"
   ]
  },
  {
   "cell_type": "code",
   "execution_count": 20,
   "metadata": {},
   "outputs": [],
   "source": [
    "def credit_info(loan, percent, term):\n",
    "    \"\"\"\n",
    "    Prints information about a credit: monthly payment, total payments sum and overpay\n",
    "    \"\"\"\n",
    "    payment = calc_payment(loan, percent, term)\n",
    "    overpay = calc_overpay(loan, percent, term)\n",
    "    summ    = loan + overpay\n",
    "    \n",
    "    print('--------------------------------')\n",
    "    print('кредит       :', '₽{:,.2f}'.format(loan))\n",
    "    print('процент      :', '{:,.2f} %'.format(percent))\n",
    "    print('платеж       :', '{:,.2f} ₽/мес'.format(payment))\n",
    "    print('--------------------------------')\n",
    "    print('срок         :', term * 12, ' (мес) = ', term, ' (лет)')\n",
    "    print('сумма выплат :', '₽{:,.2f}'.format(summ))\n",
    "    print('переплата    :', '₽{:,.2f}'.format(overpay))"
   ]
  },
  {
   "cell_type": "code",
   "execution_count": 18,
   "metadata": {},
   "outputs": [
    {
     "name": "stdout",
     "output_type": "stream",
     "text": [
      "--------------------------------\n",
      "кредит       : ₽6,000,000.00\n",
      "процент      : 10.00 %\n",
      "платеж       : 79,290.44 ₽/мес\n",
      "--------------------------------\n",
      "срок         : 120  (мес) =  10  (лет)\n",
      "сумма выплат : ₽9,514,853.06\n",
      "переплата    : ₽3,514,853.06\n"
     ]
    }
   ],
   "source": [
    "loan    = 6000000\n",
    "percent = 10\n",
    "term    = 10\n",
    "\n",
    "credit_info(loan, percent, term)"
   ]
  },
  {
   "cell_type": "markdown",
   "metadata": {},
   "source": [
    "### DEPOSIT tools"
   ]
  },
  {
   "cell_type": "code",
   "execution_count": 11,
   "metadata": {},
   "outputs": [],
   "source": [
    "def calc_deposit_income(deposit, percent, term):\n",
    "    \"\"\"\n",
    "    Calcs income of deposit\n",
    "    \n",
    "    `deposit` - initial amount\n",
    "    `percent` - annual percent, e.g. 10%\n",
    "    `term`    - term in years\n",
    "    \n",
    "    returns income only\n",
    "    \"\"\"\n",
    "    months = int(term * 12)\n",
    "    ppm    = percent / 100 / 12\n",
    "    \n",
    "    summ = 0\n",
    "    \n",
    "    for month in range(months):\n",
    "        summ  += deposit*ppm\n",
    "       \n",
    "    return summ"
   ]
  },
  {
   "cell_type": "code",
   "execution_count": 15,
   "metadata": {},
   "outputs": [
    {
     "data": {
      "text/plain": [
       "6000000.0"
      ]
     },
     "execution_count": 15,
     "metadata": {},
     "output_type": "execute_result"
    }
   ],
   "source": [
    "calc_deposit_income(6000000, 20, 5)"
   ]
  }
 ],
 "metadata": {
  "kernelspec": {
   "display_name": "Python 3 (ipykernel)",
   "language": "python",
   "name": "python3"
  },
  "language_info": {
   "codemirror_mode": {
    "name": "ipython",
    "version": 3
   },
   "file_extension": ".py",
   "mimetype": "text/x-python",
   "name": "python",
   "nbconvert_exporter": "python",
   "pygments_lexer": "ipython3",
   "version": "3.10.6"
  }
 },
 "nbformat": 4,
 "nbformat_minor": 4
}
